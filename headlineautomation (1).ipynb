{
 "cells": [
  {
   "cell_type": "code",
   "execution_count": 3,
   "id": "72ad00c4-d473-442f-ac44-11847f316256",
   "metadata": {},
   "outputs": [
    {
     "name": "stdout",
     "output_type": "stream",
     "text": [
      "Requirement already satisfied: transformers in c:\\users\\pooja\\anaconda3\\lib\\site-packages (4.50.3)\n",
      "Requirement already satisfied: filelock in c:\\users\\pooja\\anaconda3\\lib\\site-packages (from transformers) (3.13.1)\n",
      "Requirement already satisfied: huggingface-hub<1.0,>=0.26.0 in c:\\users\\pooja\\anaconda3\\lib\\site-packages (from transformers) (0.30.1)\n",
      "Requirement already satisfied: numpy>=1.17 in c:\\users\\pooja\\anaconda3\\lib\\site-packages (from transformers) (1.26.4)\n",
      "Requirement already satisfied: packaging>=20.0 in c:\\users\\pooja\\anaconda3\\lib\\site-packages (from transformers) (24.1)\n",
      "Requirement already satisfied: pyyaml>=5.1 in c:\\users\\pooja\\anaconda3\\lib\\site-packages (from transformers) (6.0.1)\n",
      "Requirement already satisfied: regex!=2019.12.17 in c:\\users\\pooja\\anaconda3\\lib\\site-packages (from transformers) (2024.9.11)\n",
      "Requirement already satisfied: requests in c:\\users\\pooja\\anaconda3\\lib\\site-packages (from transformers) (2.32.3)\n",
      "Requirement already satisfied: tokenizers<0.22,>=0.21 in c:\\users\\pooja\\anaconda3\\lib\\site-packages (from transformers) (0.21.1)\n",
      "Requirement already satisfied: safetensors>=0.4.3 in c:\\users\\pooja\\anaconda3\\lib\\site-packages (from transformers) (0.5.3)\n",
      "Requirement already satisfied: tqdm>=4.27 in c:\\users\\pooja\\anaconda3\\lib\\site-packages (from transformers) (4.66.5)\n",
      "Requirement already satisfied: fsspec>=2023.5.0 in c:\\users\\pooja\\anaconda3\\lib\\site-packages (from huggingface-hub<1.0,>=0.26.0->transformers) (2024.6.1)\n",
      "Requirement already satisfied: typing-extensions>=3.7.4.3 in c:\\users\\pooja\\anaconda3\\lib\\site-packages (from huggingface-hub<1.0,>=0.26.0->transformers) (4.11.0)\n",
      "Requirement already satisfied: colorama in c:\\users\\pooja\\anaconda3\\lib\\site-packages (from tqdm>=4.27->transformers) (0.4.6)\n",
      "Requirement already satisfied: charset-normalizer<4,>=2 in c:\\users\\pooja\\anaconda3\\lib\\site-packages (from requests->transformers) (3.3.2)\n",
      "Requirement already satisfied: idna<4,>=2.5 in c:\\users\\pooja\\anaconda3\\lib\\site-packages (from requests->transformers) (3.7)\n",
      "Requirement already satisfied: urllib3<3,>=1.21.1 in c:\\users\\pooja\\anaconda3\\lib\\site-packages (from requests->transformers) (2.2.3)\n",
      "Requirement already satisfied: certifi>=2017.4.17 in c:\\users\\pooja\\anaconda3\\lib\\site-packages (from requests->transformers) (2025.1.31)\n"
     ]
    },
    {
     "name": "stderr",
     "output_type": "stream",
     "text": [
      "WARNING: Ignoring invalid distribution ~ympy (C:\\Users\\pooja\\anaconda3\\Lib\\site-packages)\n",
      "WARNING: Ignoring invalid distribution ~ympy (C:\\Users\\pooja\\anaconda3\\Lib\\site-packages)\n",
      "WARNING: Ignoring invalid distribution ~ympy (C:\\Users\\pooja\\anaconda3\\Lib\\site-packages)\n"
     ]
    }
   ],
   "source": [
    "!pip install transformers"
   ]
  },
  {
   "cell_type": "code",
   "execution_count": 5,
   "id": "92350c17-fa2d-4d46-8279-9e4d78e1d3bf",
   "metadata": {},
   "outputs": [
    {
     "name": "stdout",
     "output_type": "stream",
     "text": [
      "Requirement already satisfied: torch in c:\\users\\pooja\\anaconda3\\lib\\site-packages (2.6.0)\n",
      "Requirement already satisfied: torchvision in c:\\users\\pooja\\anaconda3\\lib\\site-packages (0.21.0)\n",
      "Requirement already satisfied: torchaudio in c:\\users\\pooja\\anaconda3\\lib\\site-packages (2.6.0)\n",
      "Requirement already satisfied: filelock in c:\\users\\pooja\\anaconda3\\lib\\site-packages (from torch) (3.13.1)\n",
      "Requirement already satisfied: typing-extensions>=4.10.0 in c:\\users\\pooja\\anaconda3\\lib\\site-packages (from torch) (4.11.0)\n",
      "Requirement already satisfied: networkx in c:\\users\\pooja\\anaconda3\\lib\\site-packages (from torch) (3.3)\n",
      "Requirement already satisfied: jinja2 in c:\\users\\pooja\\anaconda3\\lib\\site-packages (from torch) (3.1.4)\n",
      "Requirement already satisfied: fsspec in c:\\users\\pooja\\anaconda3\\lib\\site-packages (from torch) (2024.6.1)\n",
      "Requirement already satisfied: setuptools in c:\\users\\pooja\\anaconda3\\lib\\site-packages (from torch) (75.1.0)\n",
      "Requirement already satisfied: sympy==1.13.1 in c:\\users\\pooja\\anaconda3\\lib\\site-packages (from torch) (1.13.1)\n",
      "Requirement already satisfied: mpmath<1.4,>=1.1.0 in c:\\users\\pooja\\anaconda3\\lib\\site-packages (from sympy==1.13.1->torch) (1.3.0)\n",
      "Requirement already satisfied: numpy in c:\\users\\pooja\\anaconda3\\lib\\site-packages (from torchvision) (1.26.4)\n",
      "Requirement already satisfied: pillow!=8.3.*,>=5.3.0 in c:\\users\\pooja\\anaconda3\\lib\\site-packages (from torchvision) (10.4.0)\n",
      "Requirement already satisfied: MarkupSafe>=2.0 in c:\\users\\pooja\\anaconda3\\lib\\site-packages (from jinja2->torch) (2.1.3)\n",
      "Note: you may need to restart the kernel to use updated packages.\n"
     ]
    },
    {
     "name": "stderr",
     "output_type": "stream",
     "text": [
      "WARNING: Ignoring invalid distribution ~ympy (C:\\Users\\pooja\\anaconda3\\Lib\\site-packages)\n",
      "WARNING: Ignoring invalid distribution ~ympy (C:\\Users\\pooja\\anaconda3\\Lib\\site-packages)\n",
      "WARNING: Ignoring invalid distribution ~ympy (C:\\Users\\pooja\\anaconda3\\Lib\\site-packages)\n"
     ]
    }
   ],
   "source": [
    "pip install torch torchvision torchaudio"
   ]
  },
  {
   "cell_type": "code",
   "execution_count": 7,
   "id": "7e766a3b-8833-4136-b51c-28bade70171d",
   "metadata": {},
   "outputs": [],
   "source": [
    "\n",
    "import pandas as pd\n",
    "import numpy as np\n",
    "import re\n",
    "import nltk\n",
    "from nltk.corpus import stopwords\n",
    "\n",
    "\n",
    "import matplotlib.pyplot as plt\n",
    "import seaborn as sns\n",
    "\n",
    "\n",
    "from tqdm.notebook import tqdm\n",
    "\n",
    "import torch\n",
    "from torch.utils.data import Dataset, DataLoader\n",
    "from torch.optim import AdamW  \n",
    "\n",
    "\n",
    "from transformers import T5Tokenizer, T5ForConditionalGeneration\n",
    "\n",
    "\n",
    "from sklearn.model_selection import train_test_split\n"
   ]
  },
  {
   "cell_type": "code",
   "execution_count": 9,
   "id": "d1e62820-906b-4a86-a73c-ad645696bcc9",
   "metadata": {},
   "outputs": [],
   "source": [
    "# For reproducibility\n",
    "torch.manual_seed(42)\n",
    "np.random.seed(42)"
   ]
  },
  {
   "cell_type": "code",
   "execution_count": 11,
   "id": "aa1ee4fc-42e5-46d2-9a35-7e8ecc46060a",
   "metadata": {},
   "outputs": [
    {
     "name": "stderr",
     "output_type": "stream",
     "text": [
      "[nltk_data] Downloading package punkt to\n",
      "[nltk_data]     C:\\Users\\pooja\\AppData\\Roaming\\nltk_data...\n",
      "[nltk_data]   Package punkt is already up-to-date!\n",
      "[nltk_data] Downloading package stopwords to\n",
      "[nltk_data]     C:\\Users\\pooja\\AppData\\Roaming\\nltk_data...\n",
      "[nltk_data]   Package stopwords is already up-to-date!\n"
     ]
    },
    {
     "data": {
      "text/plain": [
       "True"
      ]
     },
     "execution_count": 11,
     "metadata": {},
     "output_type": "execute_result"
    }
   ],
   "source": [
    "nltk.download('punkt')\n",
    "nltk.download('stopwords')"
   ]
  },
  {
   "cell_type": "code",
   "execution_count": 13,
   "id": "c173a0b4-e99f-48ac-ad04-373092861408",
   "metadata": {},
   "outputs": [
    {
     "name": "stdout",
     "output_type": "stream",
     "text": [
      "Dataset shape: (2000, 5)\n"
     ]
    },
    {
     "data": {
      "text/html": [
       "<div>\n",
       "<style scoped>\n",
       "    .dataframe tbody tr th:only-of-type {\n",
       "        vertical-align: middle;\n",
       "    }\n",
       "\n",
       "    .dataframe tbody tr th {\n",
       "        vertical-align: top;\n",
       "    }\n",
       "\n",
       "    .dataframe thead th {\n",
       "        text-align: right;\n",
       "    }\n",
       "</style>\n",
       "<table border=\"1\" class=\"dataframe\">\n",
       "  <thead>\n",
       "    <tr style=\"text-align: right;\">\n",
       "      <th></th>\n",
       "      <th>headlines</th>\n",
       "      <th>description</th>\n",
       "      <th>content</th>\n",
       "      <th>url</th>\n",
       "      <th>category</th>\n",
       "    </tr>\n",
       "  </thead>\n",
       "  <tbody>\n",
       "    <tr>\n",
       "      <th>0</th>\n",
       "      <td>Nirmala Sitharaman to equal Morarji Desai’s re...</td>\n",
       "      <td>With the presentation of the interim budget on...</td>\n",
       "      <td>Sitharaman, the first full-time woman finance ...</td>\n",
       "      <td>https://indianexpress.com/article/business/bud...</td>\n",
       "      <td>business</td>\n",
       "    </tr>\n",
       "    <tr>\n",
       "      <th>1</th>\n",
       "      <td>‘Will densify network, want to be at least no....</td>\n",
       "      <td>'In terms of market share, we aim to double it...</td>\n",
       "      <td>The merger of Tata group’s budget airlines Air...</td>\n",
       "      <td>https://indianexpress.com/article/business/avi...</td>\n",
       "      <td>business</td>\n",
       "    </tr>\n",
       "    <tr>\n",
       "      <th>2</th>\n",
       "      <td>Air India group to induct an aircraft every si...</td>\n",
       "      <td>Air India currently has 117 operational aircra...</td>\n",
       "      <td>The Air India group plans to induct one aircra...</td>\n",
       "      <td>https://indianexpress.com/article/business/avi...</td>\n",
       "      <td>business</td>\n",
       "    </tr>\n",
       "    <tr>\n",
       "      <th>3</th>\n",
       "      <td>Red Sea woes: Exporters seek increased credit ...</td>\n",
       "      <td>Rising attacks forced shippers to consider the...</td>\n",
       "      <td>Indian exporters have asked the central govern...</td>\n",
       "      <td>https://indianexpress.com/article/business/red...</td>\n",
       "      <td>business</td>\n",
       "    </tr>\n",
       "    <tr>\n",
       "      <th>4</th>\n",
       "      <td>Air India group to induct a plane every 6 days...</td>\n",
       "      <td>Apart from fleet expansion, 2024 will also see...</td>\n",
       "      <td>The Air India group plans to induct one aircra...</td>\n",
       "      <td>https://indianexpress.com/article/business/avi...</td>\n",
       "      <td>business</td>\n",
       "    </tr>\n",
       "  </tbody>\n",
       "</table>\n",
       "</div>"
      ],
      "text/plain": [
       "                                           headlines  \\\n",
       "0  Nirmala Sitharaman to equal Morarji Desai’s re...   \n",
       "1  ‘Will densify network, want to be at least no....   \n",
       "2  Air India group to induct an aircraft every si...   \n",
       "3  Red Sea woes: Exporters seek increased credit ...   \n",
       "4  Air India group to induct a plane every 6 days...   \n",
       "\n",
       "                                         description  \\\n",
       "0  With the presentation of the interim budget on...   \n",
       "1  'In terms of market share, we aim to double it...   \n",
       "2  Air India currently has 117 operational aircra...   \n",
       "3  Rising attacks forced shippers to consider the...   \n",
       "4  Apart from fleet expansion, 2024 will also see...   \n",
       "\n",
       "                                             content  \\\n",
       "0  Sitharaman, the first full-time woman finance ...   \n",
       "1  The merger of Tata group’s budget airlines Air...   \n",
       "2  The Air India group plans to induct one aircra...   \n",
       "3  Indian exporters have asked the central govern...   \n",
       "4  The Air India group plans to induct one aircra...   \n",
       "\n",
       "                                                 url  category  \n",
       "0  https://indianexpress.com/article/business/bud...  business  \n",
       "1  https://indianexpress.com/article/business/avi...  business  \n",
       "2  https://indianexpress.com/article/business/avi...  business  \n",
       "3  https://indianexpress.com/article/business/red...  business  \n",
       "4  https://indianexpress.com/article/business/avi...  business  "
      ]
     },
     "execution_count": 13,
     "metadata": {},
     "output_type": "execute_result"
    }
   ],
   "source": [
    "df = pd.read_csv(\"C:\\\\Users\\\\pooja\\\\Downloads\\\\archive\\\\business_data.csv\")\n",
    "\n",
    "print(f\"Dataset shape: {df.shape}\")\n",
    "df.head()"
   ]
  },
  {
   "cell_type": "code",
   "execution_count": 15,
   "id": "268a4afc-3bb9-4ace-a04c-127d5dade484",
   "metadata": {},
   "outputs": [
    {
     "name": "stdout",
     "output_type": "stream",
     "text": [
      "\n",
      "Missing values in each column:\n",
      "headlines      0\n",
      "description    0\n",
      "content        0\n",
      "url            0\n",
      "category       0\n",
      "dtype: int64\n"
     ]
    }
   ],
   "source": [
    "# Check for missing values\n",
    "print(\"\\nMissing values in each column:\")\n",
    "print(df.isnull().sum())"
   ]
  },
  {
   "cell_type": "code",
   "execution_count": 17,
   "id": "160b9ae2-4eb2-4e79-81d0-55913e2306f9",
   "metadata": {},
   "outputs": [],
   "source": [
    "df['headline_length'] = df['headlines'].apply(len)  # Note: lowercase 'headlines'\n",
    "df['content_length'] = df['content'].apply(len) "
   ]
  },
  {
   "cell_type": "code",
   "execution_count": 19,
   "id": "4fad4fd7-a576-40b3-bce6-66799901e833",
   "metadata": {},
   "outputs": [
    {
     "data": {
      "image/png": "[encoded data removed]",
      "text/plain": [
       "<Figure size 1200x600 with 2 Axes>"
      ]
     },
     "metadata": {},
     "output_type": "display_data"
    }
   ],
   "source": [
    "plt.figure(figsize=(12, 6))\n",
    "plt.subplot(1, 2, 1)\n",
    "sns.histplot(df['headline_length'])\n",
    "plt.title('Headline Length Distribution')\n",
    "plt.xlabel('Character Count')\n",
    "plt.subplot(1, 2, 2)\n",
    "sns.histplot(df['content_length'])\n",
    "plt.title('Content Length Distribution')\n",
    "plt.xlabel('Character Count')\n",
    "plt.tight_layout()\n",
    "plt.show()"
   ]
  },
  {
   "cell_type": "code",
   "execution_count": 21,
   "id": "656b1c63-12d5-4553-817a-97215a354497",
   "metadata": {},
   "outputs": [
    {
     "name": "stdout",
     "output_type": "stream",
     "text": [
      "\n",
      "Sample Headlines and their Content:\n",
      "\n",
      "Headline 1: Nirmala Sitharaman to equal Morarji Desai’s record with her sixth straight budget\n",
      "Description: With the presentation of the interim budget on February 1, Nirmala Sitharaman will surpass the records of her predecessors like Manmohan Singh, Arun Jaitley, P Chidambaram, and Yashwant Sinha, who had presented five budgets in a row.\n",
      "Content snippet: Sitharaman, the first full-time woman finance minister of the country, has presented five full budgets since July 2019 and will present an interim or vote-on-account budget next week.\n",
      "With the present...\n",
      "\n",
      "Headline 2: ‘Will densify network, want to be at least no. 2 in any city pair’: Air India Express MD\n",
      "Description: 'In terms of market share, we aim to double it by 2028 in both segments—15 per cent in the domestic and 20 per cent in short-haul international,' says AI Express’s Managing Director Aloke Singh\n",
      "Content snippet: The merger of Tata group’s budget airlines Air India Express (AI Express) and AIX Connect (formerly AirAsia India) into one carrier — AI Express — is on track for completion in the next three to four ...\n",
      "\n",
      "Headline 3: Air India group to induct an aircraft every six days throughout this year\n",
      "Description: Air India currently has 117 operational aircraft in its fleet, while its arm Air India Express has 63 planes. Under the new owners, Air India has been able to bring back to service 90 per cent of its long-grounded aircraft as well.\n",
      "Content snippet: The Air India group plans to induct one aircraft every six days on an average throughout 2024, including five more Airbus A350 wide-body aircraft, and 46 Boeing 737 and 17 Airbus A320 narrow-body plan...\n"
     ]
    }
   ],
   "source": [
    "print(\"\\nSample Headlines and their Content:\")\n",
    "for i in range(3):\n",
    "    print(f\"\\nHeadline {i+1}: {df['headlines'].iloc[i]}\")\n",
    "    print(f\"Description: {df['description'].iloc[i]}\")\n",
    "    print(f\"Content snippet: {df['content'].iloc[i][:200]}...\")\n"
   ]
  },
  {
   "cell_type": "code",
   "execution_count": 23,
   "id": "91c7d23b-431e-4303-abaf-eb784bbb70d8",
   "metadata": {},
   "outputs": [
    {
     "data": {
      "image/png": "[encoded data removed]",
      "text/plain": [
       "<Figure size 1000x600 with 1 Axes>"
      ]
     },
     "metadata": {},
     "output_type": "display_data"
    }
   ],
   "source": [
    "# Check category distribution\n",
    "plt.figure(figsize=(10, 6))\n",
    "category_counts = df['category'].value_counts()\n",
    "sns.barplot(x=category_counts.index, y=category_counts.values)\n",
    "plt.title('Distribution of News Categories')\n",
    "plt.xticks(rotation=45, ha='right')\n",
    "plt.tight_layout()\n",
    "plt.show()"
   ]
  },
  {
   "cell_type": "code",
   "execution_count": 25,
   "id": "d5403abc-0b01-48ed-808a-42ffacff17a5",
   "metadata": {},
   "outputs": [],
   "source": [
    "def clean_text(text):\n",
    "    \"\"\"Basic text cleaning function\"\"\"\n",
    "    if isinstance(text, str):\n",
    "        # Remove HTML tags\n",
    "        text = re.sub(r'<.*?>', '', text)\n",
    "        # Remove URLs\n",
    "        text = re.sub(r'http\\S+', '', text)\n",
    "        # Remove special characters\n",
    "        text = re.sub(r'[^\\w\\s]', '', text)\n",
    "        # Remove extra whitespace\n",
    "        text = re.sub(r'\\s+', ' ', text).strip()\n",
    "        return text\n",
    "    return \"\"\n"
   ]
  },
  {
   "cell_type": "code",
   "execution_count": 27,
   "id": "5d25dfdf-c3bb-49ad-98a3-32543012a685",
   "metadata": {},
   "outputs": [],
   "source": [
    "df['clean_content'] = df['content'].apply(clean_text)\n",
    "df['clean_headline'] = df['headlines'].apply(clean_text)\n",
    "df['clean_description'] = df['description'].apply(clean_text)\n"
   ]
  },
  {
   "cell_type": "code",
   "execution_count": 33,
   "id": "192af87c-6fc7-41d8-a800-8602606492ce",
   "metadata": {},
   "outputs": [],
   "source": [
    "from tqdm import tqdm"
   ]
  },
  {
   "cell_type": "code",
   "execution_count": 35,
   "id": "32368006-5529-4f1e-975b-f036e12aa623",
   "metadata": {},
   "outputs": [],
   "source": [
    "# Set maximum lengths for input and output\n",
    "MAX_INPUT_LENGTH = 512  # T5 can handle 512 tokens\n",
    "MAX_OUTPUT_LENGTH = 64  # Headlines are shorter\n",
    "\n",
    "# Load T5 tokenizer\n",
    "tokenizer = T5Tokenizer.from_pretrained('t5-small')\n"
   ]
  },
  {
   "cell_type": "code",
   "execution_count": 37,
   "id": "9b36f639-28f3-4cd4-b7e8-b090ec375921",
   "metadata": {},
   "outputs": [],
   "source": [
    "class HeadlineDataset(Dataset):\n",
    "    def __init__(self, content, headlines, tokenizer, max_input_len, max_output_len):\n",
    "        self.tokenizer = tokenizer\n",
    "        self.content = content\n",
    "        self.headlines = headlines\n",
    "        self.max_input_len = max_input_len\n",
    "        self.max_output_len = max_output_len\n",
    "        \n",
    "    def __len__(self):\n",
    "        return len(self.content)\n",
    "    \n",
    "    def __getitem__(self, idx):\n",
    "        content = str(self.content[idx])\n",
    "        headline = str(self.headlines[idx])\n",
    "        \n",
    "        # T5 uses a specific prefix for summarization tasks\n",
    "        input_text = \"summarize: \" + content\n",
    "        \n",
    "        # Tokenize inputs and targets\n",
    "        input_encoding = self.tokenizer(\n",
    "            input_text, \n",
    "            max_length=self.max_input_len, \n",
    "            padding='max_length', \n",
    "            truncation=True, \n",
    "            return_tensors=\"pt\"\n",
    "        )\n",
    "        \n",
    "        target_encoding = self.tokenizer(\n",
    "            headline, \n",
    "            max_length=self.max_output_len, \n",
    "            padding='max_length', \n",
    "            truncation=True, \n",
    "            return_tensors=\"pt\"\n",
    "        )\n",
    "        \n",
    "        # Get rid of the batch dimension which the tokenizer adds\n",
    "        input_ids = input_encoding.input_ids.squeeze()\n",
    "        attention_mask = input_encoding.attention_mask.squeeze()\n",
    "        labels = target_encoding.input_ids.squeeze()\n",
    "        # Replace padding token id with -100 so it's ignored in loss computation\n",
    "        labels[labels == self.tokenizer.pad_token_id] = -100\n",
    "        \n",
    "        return {\n",
    "            'input_ids': input_ids,\n",
    "            'attention_mask': attention_mask,\n",
    "            'labels': labels\n",
    "        }"
   ]
  },
  {
   "cell_type": "code",
   "execution_count": 39,
   "id": "e417aabf-c798-4872-baed-6f608c394b57",
   "metadata": {},
   "outputs": [],
   "source": [
    "# Split data into training and validation sets\n",
    "train_df, val_df = train_test_split(df, test_size=0.1, random_state=42)\n",
    "\n",
    "# Create datasets\n",
    "train_dataset = HeadlineDataset(\n",
    "    train_df['clean_content'].tolist(),\n",
    "    train_df['clean_headline'].tolist(),\n",
    "    tokenizer,\n",
    "    MAX_INPUT_LENGTH,\n",
    "    MAX_OUTPUT_LENGTH\n",
    ")\n",
    "\n",
    "val_dataset = HeadlineDataset(\n",
    "    val_df['clean_content'].tolist(),\n",
    "    val_df['clean_headline'].tolist(),\n",
    "    tokenizer,\n",
    "    MAX_INPUT_LENGTH,\n",
    "    MAX_OUTPUT_LENGTH\n",
    ")"
   ]
  },
  {
   "cell_type": "code",
   "execution_count": 41,
   "id": "fcb41828-06da-4211-ad10-c9e69ca41b7d",
   "metadata": {},
   "outputs": [],
   "source": [
    "# Create data loaders\n",
    "train_loader = DataLoader(train_dataset, batch_size=4, shuffle=True)\n",
    "val_loader = DataLoader(val_dataset, batch_size=4, shuffle=False)"
   ]
  },
  {
   "cell_type": "code",
   "execution_count": 43,
   "id": "b8857a7b-5220-4a25-97cc-d3d61808ae0b",
   "metadata": {},
   "outputs": [
    {
     "name": "stdout",
     "output_type": "stream",
     "text": [
      "Requirement already satisfied: hf_xet in c:\\users\\pooja\\anaconda3\\lib\\site-packages (1.0.0)\n",
      "Note: you may need to restart the kernel to use updated packages.\n"
     ]
    },
    {
     "name": "stderr",
     "output_type": "stream",
     "text": [
      "WARNING: Ignoring invalid distribution ~ympy (C:\\Users\\pooja\\anaconda3\\Lib\\site-packages)\n",
      "WARNING: Ignoring invalid distribution ~ympy (C:\\Users\\pooja\\anaconda3\\Lib\\site-packages)\n",
      "WARNING: Ignoring invalid distribution ~ympy (C:\\Users\\pooja\\anaconda3\\Lib\\site-packages)\n"
     ]
    }
   ],
   "source": [
    "pip install hf_xet"
   ]
  },
  {
   "cell_type": "code",
   "execution_count": 45,
   "id": "b3244e03-0181-4131-8370-f43411c590ea",
   "metadata": {},
   "outputs": [],
   "source": [
    "# Part 4: Model Setup and Training\n",
    "\n",
    "# Load the pre-trained T5 model\n",
    "model = T5ForConditionalGeneration.from_pretrained('t5-small')\n",
    "\n",
    "# Define optimizer\n",
    "optimizer = AdamW(model.parameters(), lr=2e-5)\n",
    "\n",
    "# Training function\n",
    "def train_epoch(model, dataloader, optimizer, device):\n",
    "    model.train()\n",
    "    total_loss = 0\n",
    "    \n",
    "    for batch in tqdm(dataloader, desc=\"Training\"):\n",
    "        input_ids = batch['input_ids'].to(device)\n",
    "        attention_mask = batch['attention_mask'].to(device)\n",
    "        labels = batch['labels'].to(device)\n",
    "        \n",
    "        # Forward pass\n",
    "        outputs = model(\n",
    "            input_ids=input_ids,\n",
    "            attention_mask=attention_mask,\n",
    "            labels=labels\n",
    "        )\n",
    "        \n",
    "        loss = outputs.loss\n",
    "        total_loss += loss.item()\n",
    "        \n",
    "        # Backward pass\n",
    "        optimizer.zero_grad()\n",
    "        loss.backward()\n",
    "        optimizer.step()\n",
    "    \n",
    "    return total_loss / len(dataloader)"
   ]
  },
  {
   "cell_type": "code",
   "execution_count": 47,
   "id": "7d3dc43a-e52a-4707-90b2-aded3a3d08cc",
   "metadata": {},
   "outputs": [],
   "source": [
    "# Validation function\n",
    "def validate(model, dataloader, device):\n",
    "    model.eval()\n",
    "    total_loss = 0\n",
    "    \n",
    "    with torch.no_grad():\n",
    "        for batch in tqdm(dataloader, desc=\"Validation\"):\n",
    "            input_ids = batch['input_ids'].to(device)\n",
    "            attention_mask = batch['attention_mask'].to(device)\n",
    "            labels = batch['labels'].to(device)\n",
    "            \n",
    "            outputs = model(\n",
    "                input_ids=input_ids,\n",
    "                attention_mask=attention_mask,\n",
    "                labels=labels\n",
    "            )\n",
    "            \n",
    "            loss = outputs.loss\n",
    "            total_loss += loss.item()\n",
    "    \n",
    "    return total_loss / len(dataloader)"
   ]
  },
  {
   "cell_type": "code",
   "execution_count": 49,
   "id": "a82e78b9-dc38-43fd-8731-3aab9863aed7",
   "metadata": {},
   "outputs": [],
   "source": [
    "# Generate headlines\n",
    "def generate_headline(content, model, tokenizer, device, max_length=64):\n",
    "    model.eval()\n",
    "    \n",
    "    # Prepare input\n",
    "    input_text = \"summarize: \" + content\n",
    "    input_ids = tokenizer(\n",
    "        input_text, \n",
    "        max_length=MAX_INPUT_LENGTH, \n",
    "        padding='max_length', \n",
    "        truncation=True, \n",
    "        return_tensors=\"pt\"\n",
    "    ).input_ids.to(device)\n",
    "    \n",
    "    # Generate\n",
    "    output_ids = model.generate(\n",
    "        input_ids, \n",
    "        max_length=max_length,\n",
    "        num_beams=4,\n",
    "        early_stopping=True\n",
    "    )\n",
    "    \n",
    "    # Decode\n",
    "    headline = tokenizer.decode(output_ids[0], skip_special_tokens=True)\n",
    "    \n",
    "    return headline"
   ]
  },
  {
   "cell_type": "code",
   "execution_count": 51,
   "id": "f48ee828-7ad5-4510-a0de-4cc15c731357",
   "metadata": {},
   "outputs": [
    {
     "name": "stdout",
     "output_type": "stream",
     "text": [
      "Using device: cpu\n",
      "\n",
      "Epoch 1/3\n",
      "\n",
      "Epoch 2/3\n",
      "\n",
      "Epoch 3/3\n"
     ]
    }
   ],
   "source": [
    "# Check if GPU is available\n",
    "device = torch.device('cuda' if torch.cuda.is_available() else 'cpu')\n",
    "print(f\"Using device: {device}\")\n",
    "\n",
    "# Move model to device\n",
    "model = model.to(device)\n",
    "\n",
    "# Training loop\n",
    "NUM_EPOCHS = 3\n",
    "best_val_loss = float('inf')\n",
    "\n",
    "train_losses = []\n",
    "val_losses = []\n",
    "\n",
    "for epoch in range(NUM_EPOCHS):\n",
    "    print(f\"\\nEpoch {epoch+1}/{NUM_EPOCHS}\")"
   ]
  },
  {
   "cell_type": "code",
   "execution_count": 53,
   "id": "32183fe4-7483-4704-a47b-8d974efee1a8",
   "metadata": {},
   "outputs": [
    {
     "name": "stderr",
     "output_type": "stream",
     "text": [
      "Training:   0%|                                                                                | 0/450 [00:00<?, ?it/s]Passing a tuple of `past_key_values` is deprecated and will be removed in Transformers v4.48.0. You should pass an instance of `EncoderDecoderCache` instead, e.g. `past_key_values=EncoderDecoderCache.from_legacy_cache(past_key_values)`.\n",
      "Training: 100%|██████████████████████████████████████████████████████████████████████| 450/450 [24:20<00:00,  3.24s/it]\n",
      "Validation: 100%|██████████████████████████████████████████████████████████████████████| 50/50 [00:47<00:00,  1.05it/s]"
     ]
    },
    {
     "name": "stdout",
     "output_type": "stream",
     "text": [
      "Train Loss: 3.9042\n",
      "Validation Loss: 3.4086\n"
     ]
    },
    {
     "name": "stderr",
     "output_type": "stream",
     "text": [
      "\n"
     ]
    }
   ],
   "source": [
    "# Train\n",
    "train_loss = train_epoch(model, train_loader, optimizer, device)\n",
    "train_losses.append(train_loss)\n",
    "    \n",
    "# Validate\n",
    "val_loss = validate(model, val_loader, device)\n",
    "val_losses.append(val_loss)\n",
    "    \n",
    "print(f\"Train Loss: {train_loss:.4f}\")\n",
    "print(f\"Validation Loss: {val_loss:.4f}\")\n"
   ]
  },
  {
   "cell_type": "code",
   "execution_count": 55,
   "id": "1a6914ae-925e-4b94-965d-eab0165490d6",
   "metadata": {},
   "outputs": [
    {
     "name": "stdout",
     "output_type": "stream",
     "text": [
      "Saved best model!\n"
     ]
    }
   ],
   "source": [
    "# Save the best model\n",
    "if val_loss < best_val_loss:\n",
    "    best_val_loss = val_loss\n",
    "    torch.save(model.state_dict(), 'best_headline_generator.pt')\n",
    "    print(\"Saved best model!\")\n"
   ]
  },
  {
   "cell_type": "code",
   "execution_count": 57,
   "id": "dc29a94f-a067-41c8-abc2-270c238cdb75",
   "metadata": {},
   "outputs": [
    {
     "data": {
      "text/plain": [
       "<All keys matched successfully>"
      ]
     },
     "execution_count": 57,
     "metadata": {},
     "output_type": "execute_result"
    }
   ],
   "source": [
    "# Load best model\n",
    "model.load_state_dict(torch.load('best_headline_generator.pt'))"
   ]
  },
  {
   "cell_type": "code",
   "execution_count": 59,
   "id": "baddc441-324a-478b-af27-be7555c3619f",
   "metadata": {},
   "outputs": [
    {
     "name": "stdout",
     "output_type": "stream",
     "text": [
      "\n",
      "Generated Headlines vs. Actual Headlines:\n",
      "\n",
      "Article snippet: Aviation watchdog DGCA has put SpiceJet under enhanced surveillance amid the budget airline facing m...\n",
      "Actual headline: GST Council 28 tax on online gaming casinos and horseracing\n",
      "Generated headline: DGCA has put SpiceJet under enhanced surveillance\n",
      "\n",
      "Article snippet: Reserve Bank of India Governor Shaktikanta Das Friday said high frequency food price indicators poin...\n",
      "Actual headline: High vegetable prices may push up retail inflation in near term RBI Governor\n",
      "Generated headline: Reserve Bank of India Governor Shaktikanta Das said high frequency food price indicators point to an increase in prices of key vegetables\n",
      "\n",
      "Article snippet: After opening flat domestic equities jumped higher on Wednesday led by a rally in bank stocks BSE be...\n",
      "Actual headline: Sensex rises 213 pts Nifty advances to 19440 bank stocks shine JioFin hits 5 lower circuit\n",
      "Generated headline: BSE benchmark Sensex gains 21327 points or 033 to close at 6543330\n",
      "\n",
      "Article snippet: With aviation turbine fuel ATF prices seeing a surge over the past few months Indias largest airline...\n",
      "Actual headline: As ATF prices surge IndiGo introduces distancebased fuel charges of Rs 3001000 per sector\n",
      "Generated headline: Indias largest airline IndiGo introduces distancebased fuel charge on domestic and international flight bookings\n",
      "\n",
      "Article snippet: The government in consultation with the Reserve Bank of India RBI is considering a proposal to inclu...\n",
      "Actual headline: Govt considering inclusion of EVs in priority sector to help funding access\n",
      "Generated headline: RBI considering a proposal to include electric vehicles EVs in priority sector lending\n"
     ]
    }
   ],
   "source": [
    "# Sample a few examples from validation set\n",
    "print(\"\\nGenerated Headlines vs. Actual Headlines:\")\n",
    "for i in range(5):\n",
    "    content = val_df['clean_content'].iloc[i]\n",
    "    actual_headline = val_df['clean_headline'].iloc[i]\n",
    "    generated_headline = generate_headline(content, model, tokenizer, device)\n",
    "    \n",
    "    print(f\"\\nArticle snippet: {content[:100]}...\")\n",
    "    print(f\"Actual headline: {actual_headline}\")\n",
    "    print(f\"Generated headline: {generated_headline}\")"
   ]
  },
  {
   "cell_type": "code",
   "execution_count": 61,
   "id": "9c9a9693-987b-44c3-913c-0b1afe01a0be",
   "metadata": {},
   "outputs": [
    {
     "name": "stdout",
     "output_type": "stream",
     "text": [
      "Requirement already satisfied: rouge-score in c:\\users\\pooja\\anaconda3\\lib\\site-packages (0.1.2)\n",
      "Requirement already satisfied: absl-py in c:\\users\\pooja\\anaconda3\\lib\\site-packages (from rouge-score) (2.2.1)\n",
      "Requirement already satisfied: nltk in c:\\users\\pooja\\anaconda3\\lib\\site-packages (from rouge-score) (3.9.1)\n",
      "Requirement already satisfied: numpy in c:\\users\\pooja\\anaconda3\\lib\\site-packages (from rouge-score) (1.26.4)\n",
      "Requirement already satisfied: six>=1.14.0 in c:\\users\\pooja\\anaconda3\\lib\\site-packages (from rouge-score) (1.16.0)\n",
      "Requirement already satisfied: click in c:\\users\\pooja\\anaconda3\\lib\\site-packages (from nltk->rouge-score) (8.1.7)\n",
      "Requirement already satisfied: joblib in c:\\users\\pooja\\anaconda3\\lib\\site-packages (from nltk->rouge-score) (1.4.2)\n",
      "Requirement already satisfied: regex>=2021.8.3 in c:\\users\\pooja\\anaconda3\\lib\\site-packages (from nltk->rouge-score) (2024.9.11)\n",
      "Requirement already satisfied: tqdm in c:\\users\\pooja\\anaconda3\\lib\\site-packages (from nltk->rouge-score) (4.66.5)\n",
      "Requirement already satisfied: colorama in c:\\users\\pooja\\anaconda3\\lib\\site-packages (from click->nltk->rouge-score) (0.4.6)\n",
      "Note: you may need to restart the kernel to use updated packages.\n"
     ]
    },
    {
     "name": "stderr",
     "output_type": "stream",
     "text": [
      "WARNING: Ignoring invalid distribution ~ympy (C:\\Users\\pooja\\anaconda3\\Lib\\site-packages)\n",
      "WARNING: Ignoring invalid distribution ~ympy (C:\\Users\\pooja\\anaconda3\\Lib\\site-packages)\n",
      "WARNING: Ignoring invalid distribution ~ympy (C:\\Users\\pooja\\anaconda3\\Lib\\site-packages)\n"
     ]
    }
   ],
   "source": [
    "pip install rouge-score"
   ]
  },
  {
   "cell_type": "code",
   "execution_count": 63,
   "id": "8f959167-40de-40fa-8ffd-61b69a833939",
   "metadata": {},
   "outputs": [],
   "source": [
    "from rouge_score import rouge_scorer\n",
    "\n",
    "def calculate_rouge(actual_headlines, generated_headlines):\n",
    "    scorer = rouge_scorer.RougeScorer(['rouge1', 'rouge2', 'rougeL'], use_stemmer=True)\n",
    "    scores = {\n",
    "        'rouge1': [],\n",
    "        'rouge2': [],\n",
    "        'rougeL': []\n",
    "    }\n",
    "\n",
    "    for actual, generated in zip(actual_headlines, generated_headlines):\n",
    "        score = scorer.score(actual, generated)\n",
    "        scores['rouge1'].append(score['rouge1'].fmeasure)\n",
    "        scores['rouge2'].append(score['rouge2'].fmeasure)\n",
    "        scores['rougeL'].append(score['rougeL'].fmeasure)\n",
    "\n",
    "    avg_scores = {k: sum(v)/len(v) for k, v in scores.items()}\n",
    "    return avg_scores"
   ]
  },
  {
   "cell_type": "code",
   "execution_count": 65,
   "id": "85172364-4153-48a1-a578-28c64c07e998",
   "metadata": {},
   "outputs": [
    {
     "name": "stderr",
     "output_type": "stream",
     "text": [
      "Generating headlines for evaluation: 100%|███████████████████████████████████████████| 100/100 [01:20<00:00,  1.25it/s]\n"
     ]
    }
   ],
   "source": [
    "# Generate headlines for the entire validation set (sample first 100 for speed)\n",
    "sample_size = min(100, len(val_df))\n",
    "actual_headlines = val_df['clean_headline'].iloc[:sample_size].tolist()\n",
    "generated_headlines = []\n",
    "\n",
    "for i in tqdm(range(sample_size), desc=\"Generating headlines for evaluation\"):\n",
    "    content = val_df['clean_content'].iloc[i]\n",
    "    headline = generate_headline(content, model, tokenizer, device)\n",
    "    generated_headlines.append(headline)"
   ]
  },
  {
   "cell_type": "code",
   "execution_count": 67,
   "id": "fb5e64a3-56d9-4e0f-843d-b051ec2f07ad",
   "metadata": {},
   "outputs": [
    {
     "name": "stdout",
     "output_type": "stream",
     "text": [
      "\n",
      "ROUGE Evaluation Scores:\n",
      "rouge1: 0.3313450245871323\n",
      "rouge2: 0.15447947285337194\n",
      "rougeL: 0.29510303501309193\n"
     ]
    }
   ],
   "source": [
    "# Calculate ROUGE scores\n",
    "rouge_scores = calculate_rouge(actual_headlines, generated_headlines)\n",
    "\n",
    "print(\"\\nROUGE Evaluation Scores:\")\n",
    "for metric, score in rouge_scores.items():\n",
    "    print(f\"{metric}: {score}\")\n"
   ]
  },
  {
   "cell_type": "code",
   "execution_count": 69,
   "id": "223fe9d2-ed25-4e52-b86c-f26782d96136",
   "metadata": {},
   "outputs": [
    {
     "name": "stdout",
     "output_type": "stream",
     "text": [
      "\n",
      "Model and tokenizer saved successfully!\n"
     ]
    }
   ],
   "source": [
    "# Part 7: Save model and tokenizer for future use\n",
    "model.save_pretrained('./headline_generator_model')\n",
    "tokenizer.save_pretrained('./headline_generator_tokenizer')\n",
    "\n",
    "print(\"\\nModel and tokenizer saved successfully!\")"
   ]
  },
  {
   "cell_type": "code",
   "execution_count": 73,
   "id": "4bf190d8-134b-46f1-8d46-a835abe515f5",
   "metadata": {},
   "outputs": [
    {
     "name": "stdout",
     "output_type": "stream",
     "text": [
      "\n",
      "Enter your article text below (press Enter twice to finish):\n"
     ]
    },
    {
     "name": "stdin",
     "output_type": "stream",
     "text": [
      " The Federal Reserve announced today that it will maintain its current interest rate  policy amid concerns about inflation and economic growth. The central bank's decision  comes after three consecutive quarters of moderate GDP expansion and mixed signals from  labor market indicators. Chairman Jerome Powell emphasized that the Fed remains committed  to its dual mandate of maximizing employment and stabilizing prices.\n",
      " \n"
     ]
    },
    {
     "name": "stdout",
     "output_type": "stream",
     "text": [
      "\n",
      "Generated Headline:\n",
      "Federal Reserve to maintain current interest rate policy amid concerns about inflation and economic growth\n"
     ]
    }
   ],
   "source": [
    "# Part 8: Function for real-world usage\n",
    "def predict_headline(article_text):\n",
    "    \"\"\"\n",
    "    Function to generate headlines for new articles\n",
    "    \"\"\"\n",
    "    # Clean the input text\n",
    "    cleaned_text = clean_text(article_text)\n",
    "    \n",
    "    # Generate headline\n",
    "    headline = generate_headline(cleaned_text, model, tokenizer, device)\n",
    "    \n",
    "    return headline\n",
    "\n",
    "# Allow user to input an article\n",
    "print(\"\\nEnter your article text below (press Enter twice to finish):\")\n",
    "lines = []\n",
    "while True:\n",
    "    line = input()\n",
    "    if line == \"\":\n",
    "        break\n",
    "    lines.append(line)\n",
    "user_article = \"\\n\".join(lines)\n",
    "\n",
    "# Generate and display headline\n",
    "print(\"\\nGenerated Headline:\")\n",
    "print(predict_headline(user_article))"
   ]
  },
  {
   "cell_type": "code",
   "execution_count": 75,
   "id": "0fbd23a7-722f-49be-a040-deac5d56f440",
   "metadata": {},
   "outputs": [
    {
     "name": "stdout",
     "output_type": "stream",
     "text": [
      "\n",
      "Exploring the use of description field:\n",
      "Average content length: 1601.99 characters\n",
      "Average description length: 171.31 characters\n",
      "Average combined length: 1774.30 characters\n"
     ]
    }
   ],
   "source": [
    "# Part 9: Additional Analysis - Using Description Field\n",
    "\n",
    "# Let's see if we can improve headlines by using the description field\n",
    "print(\"\\nExploring the use of description field:\")\n",
    "\n",
    "# Create a version that combines description and content\n",
    "df['combined_text'] = df['clean_description'] + \" \" + df['clean_content']\n",
    "\n",
    "# Compare lengths\n",
    "print(f\"Average content length: {df['clean_content'].str.len().mean():.2f} characters\")\n",
    "print(f\"Average description length: {df['clean_description'].str.len().mean():.2f} characters\")\n",
    "print(f\"Average combined length: {df['combined_text'].str.len().mean():.2f} characters\")"
   ]
  },
  {
   "cell_type": "code",
   "execution_count": 79,
   "id": "63c266ee-d1fc-416d-814d-031b6a86136f",
   "metadata": {},
   "outputs": [
    {
     "name": "stdout",
     "output_type": "stream",
     "text": [
      "\n",
      "Category-specific performance:\n",
      "\n",
      "Category: business\n",
      "Actual headline: GST Council 28 tax on online gaming casinos and horseracing\n",
      "Generated headline: DGCA has put SpiceJet under enhanced surveillance\n",
      "----------------------------------------\n",
      "Actual headline: High vegetable prices may push up retail inflation in near term RBI Governor\n",
      "Generated headline: Reserve Bank of India Governor Shaktikanta Das said high frequency food price indicators point to an increase in prices of key vegetables\n",
      "----------------------------------------\n",
      "Actual headline: Sensex rises 213 pts Nifty advances to 19440 bank stocks shine JioFin hits 5 lower circuit\n",
      "Generated headline: BSE benchmark Sensex gains 21327 points or 033 to close at 6543330\n",
      "----------------------------------------\n",
      "Actual headline: As ATF prices surge IndiGo introduces distancebased fuel charges of Rs 3001000 per sector\n",
      "Generated headline: Indias largest airline IndiGo introduces distancebased fuel charge on domestic and international flight bookings\n",
      "----------------------------------------\n",
      "Actual headline: Govt considering inclusion of EVs in priority sector to help funding access\n",
      "Generated headline: RBI considering a proposal to include electric vehicles EVs in priority sector lending\n",
      "----------------------------------------\n"
     ]
    }
   ],
   "source": [
    "# Let's see how our model performs across different categories\n",
    "print(\"\\nCategory-specific performance:\")\n",
    "\n",
    "# Get unique categories\n",
    "categories = df['category'].unique()\n",
    "\n",
    "# For each category, evaluate on a small sample\n",
    "for category in categories[:3]:  # Limit to first 3 categories for brevity\n",
    "    category_df = val_df[val_df['category'] == category]\n",
    "    \n",
    "    if len(category_df) == 0:\n",
    "        continue\n",
    "    \n",
    "    # Sample up to 5 articles from this category\n",
    "    sample_size = min(5, len(category_df))\n",
    "    sampled_df = category_df.iloc[:sample_size]\n",
    "    \n",
    "    print(f\"\\nCategory: {category}\")\n",
    "    \n",
    "    for i in range(len(sampled_df)):\n",
    "        content = sampled_df['clean_content'].iloc[i]\n",
    "        actual_headline = sampled_df['clean_headline'].iloc[i]\n",
    "        generated_headline = generate_headline(content, model, tokenizer, device)\n",
    "        \n",
    "        print(f\"Actual headline: {actual_headline}\")\n",
    "        print(f\"Generated headline: {generated_headline}\")\n",
    "        print(\"-\" * 40)"
   ]
  },
  {
   "cell_type": "code",
   "execution_count": null,
   "id": "b4898198-9e49-42a3-be5e-81b1c5e6f140",
   "metadata": {},
   "outputs": [],
   "source": []
  }
 ],
 "metadata": {
  "kernelspec": {
   "display_name": "Python [conda env:base] *",
   "language": "python",
   "name": "conda-base-py"
  },
  "language_info": {
   "codemirror_mode": {
    "name": "ipython",
    "version": 3
   },
   "file_extension": ".py",
   "mimetype": "text/x-python",
   "name": "python",
   "nbconvert_exporter": "python",
   "pygments_lexer": "ipython3",
   "version": "3.12.7"
  }
 },
 "nbformat": 4,
 "nbformat_minor": 5
}
